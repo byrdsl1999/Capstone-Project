{
 "cells": [
  {
   "cell_type": "code",
   "execution_count": 1,
   "metadata": {
    "collapsed": true
   },
   "outputs": [],
   "source": [
    "import graphlab\n",
    "import pandas as pd\n"
   ]
  },
  {
   "cell_type": "code",
   "execution_count": 2,
   "metadata": {
    "collapsed": false
   },
   "outputs": [
    {
     "name": "stderr",
     "output_type": "stream",
     "text": [
      "[INFO] \u001b[1;32m1452880814 : INFO:     (initialize_globals_from_environment:282): Setting configuration variable GRAPHLAB_FILEIO_ALTERNATIVE_SSL_CERT_FILE to /Applications/anaconda/lib/python2.7/site-packages/certifi/cacert.pem\n",
      "\u001b[0m\u001b[1;32m1452880814 : INFO:     (initialize_globals_from_environment:282): Setting configuration variable GRAPHLAB_FILEIO_ALTERNATIVE_SSL_CERT_DIR to \n",
      "\u001b[0mThis non-commercial license of GraphLab Create is assigned to byrdsl@mail.sfsu.edu and will expire on January 04, 2017. For commercial licensing options, visit https://dato.com/buy/.\n",
      "\n",
      "[INFO] Start server at: ipc:///tmp/graphlab_server-2831 - Server binary: /Applications/anaconda/lib/python2.7/site-packages/graphlab/unity_server - Server log: /tmp/graphlab_server_1452880814.log\n",
      "[INFO] GraphLab Server Version: 1.7.1\n"
     ]
    }
   ],
   "source": [
    "trimmed_binary_endangered_recommender = graphlab.load_model('models/trimmed_binary_endangered_recommender/')\n",
    "trimmed_binary_invasive_recommender = graphlab.load_model('models/trimmed_binary_invasive_recommender/')\n"
   ]
  },
  {
   "cell_type": "code",
   "execution_count": 20,
   "metadata": {
    "collapsed": true
   },
   "outputs": [],
   "source": [
    "trimmed_proportional_endangered_recommender = graphlab.load_model('models/trimmed_survey_propotional_endangered_recommender//')\n",
    "trimmed_proportional_invasive_recommender = graphlab.load_model('models/trimmed_survey_propotional_invasive_recommender//')"
   ]
  },
  {
   "cell_type": "code",
   "execution_count": 6,
   "metadata": {
    "collapsed": false
   },
   "outputs": [
    {
     "name": "stdout",
     "output_type": "stream",
     "text": [
      "+------+-------------------------------+----------------+------+\n",
      "| site |              taxa             |     score      | rank |\n",
      "+------+-------------------------------+----------------+------+\n",
      "| SU47 |        Trifolium medium       | 0.985224908288 |  1   |\n",
      "| SU47 |         Myosotis laxa         | 0.97977374079  |  2   |\n",
      "| SU47 |       Achillea ptarmica       | 0.970455525032 |  3   |\n",
      "| SU47 |       Chenopodium rubrum      | 0.961401159192 |  4   |\n",
      "| SU47 |      Polygonum arenastrum     | 0.959945247346 |  5   |\n",
      "| SU47 |       Rubus polyanthemus      | 0.95172839065  |  6   |\n",
      "| SU47 |       Glyceria declinata      | 0.949350005942 |  7   |\n",
      "| SU47 | Silene latifolia x dioica ... | 0.944543503692 |  8   |\n",
      "| SU47 |          Vinca minor          | 0.943075202642 |  9   |\n",
      "| SU47 |       Aira caryophyllea       | 0.934563451508 |  10  |\n",
      "+------+-------------------------------+----------------+------+\n",
      "[10 rows x 4 columns]\n",
      "\n",
      "+------+-------------------------+----------------+------+\n",
      "| site |           taxa          |     score      | rank |\n",
      "+------+-------------------------+----------------+------+\n",
      "| SU48 |  Epilobium parviflorum  | 0.996071390071 |  1   |\n",
      "| SU48 |    Vicia tetrasperma    | 0.981545751379 |  2   |\n",
      "| SU48 |  Eupatorium cannabinum  | 0.978955563691 |  3   |\n",
      "| SU48 |    Atriplex prostrata   | 0.978941467129 |  4   |\n",
      "| SU48 |    Tanacetum vulgare    | 0.974296011085 |  5   |\n",
      "| SU48 |     Mentha arvensis     | 0.967251892188 |  6   |\n",
      "| SU48 |      Silaum silaus      | 0.964673019938 |  7   |\n",
      "| SU48 |     Trifolium medium    | 0.963318104035 |  8   |\n",
      "| SU48 |    Cirsium eriophorum   | 0.963198362723 |  9   |\n",
      "| SU48 | Persicaria lapathifolia | 0.960500337107 |  10  |\n",
      "+------+-------------------------+----------------+------+\n",
      "[10 rows x 4 columns]\n",
      "\n"
     ]
    }
   ],
   "source": [
    "print trimmed_binary_invasive_recommender.recommend(['SU47'])\n",
    "print trimmed_binary_invasive_recommender.recommend(['SU48'])"
   ]
  },
  {
   "cell_type": "code",
   "execution_count": 19,
   "metadata": {
    "collapsed": false
   },
   "outputs": [
    {
     "name": "stdout",
     "output_type": "stream",
     "text": [
      "PROGRESS: Getting similar users completed in 0.001258\n",
      "+------+---------+---------------+------+\n",
      "| site | similar |    distance   | rank |\n",
      "+------+---------+---------------+------+\n",
      "| SP12 |   L86   | 1.55212527514 |  1   |\n",
      "| SP12 |   G59   | 1.52116441727 |  2   |\n",
      "| SP12 |   NG95  | 1.51842147112 |  3   |\n",
      "| SP12 |   Q60   | 1.45739337802 |  4   |\n",
      "| SP12 |   L74   | 1.45612412691 |  5   |\n",
      "| SP12 |   Q70   | 1.44410324097 |  6   |\n",
      "| SP12 |   NH09  | 1.43137541413 |  7   |\n",
      "| SP12 |   F81   | 1.42628884315 |  8   |\n",
      "| SP12 |   NB12  | 1.39943921566 |  9   |\n",
      "| SP12 |   NH04  | 1.39916518331 |  10  |\n",
      "+------+---------+---------------+------+\n",
      "[10 rows x 4 columns]\n",
      "\n"
     ]
    }
   ],
   "source": [
    "print trimmed_binary_invasive_recommender.get_similar_users(['SP12'])\n"
   ]
  },
  {
   "cell_type": "code",
   "execution_count": 28,
   "metadata": {
    "collapsed": false
   },
   "outputs": [
    {
     "name": "stdout",
     "output_type": "stream",
     "text": [
      "PROGRESS: Getting similar users completed in 0.001296\n",
      "+---------------------+-----------------------+---------------+------+\n",
      "|         taxa        |        similar        |    distance   | rank |\n",
      "+---------------------+-----------------------+---------------+------+\n",
      "| Littorella uniflora |    Festuca gigantea   | 1.99957567453 |  1   |\n",
      "| Littorella uniflora |     Arum maculatum    | 1.99951469898 |  2   |\n",
      "| Littorella uniflora |  Moehringia trinervia | 1.99937069416 |  3   |\n",
      "| Littorella uniflora |   Alliaria petiolata  | 1.99933987856 |  4   |\n",
      "| Littorella uniflora |   Glechoma hederacea  | 1.99920737743 |  5   |\n",
      "| Littorella uniflora | Rubus fruticosus agg. | 1.99901765585 |  6   |\n",
      "| Littorella uniflora |   Potentilla reptans  | 1.99898016453 |  7   |\n",
      "| Littorella uniflora |    Bromopsis ramosa   | 1.99893987179 |  8   |\n",
      "| Littorella uniflora |     Sambucus nigra    | 1.99879276752 |  9   |\n",
      "| Littorella uniflora |     Arctium minus     | 1.99873882532 |  10  |\n",
      "+---------------------+-----------------------+---------------+------+\n",
      "[10 rows x 4 columns]\n",
      "\n",
      "PROGRESS: Getting similar items completed in 0.001126\n",
      "+---------------------+-----------------------+---------------+------+\n",
      "|         taxa        |        similar        |    distance   | rank |\n",
      "+---------------------+-----------------------+---------------+------+\n",
      "| Littorella uniflora |     Sambucus nigra    | 1.99977934361 |  1   |\n",
      "| Littorella uniflora |     Quercus robur     | 1.99977779388 |  2   |\n",
      "| Littorella uniflora | Rubus fruticosus agg. | 1.99971181154 |  3   |\n",
      "| Littorella uniflora |   Potentilla reptans  | 1.99969154596 |  4   |\n",
      "| Littorella uniflora |   Alliaria petiolata  | 1.99965846539 |  5   |\n",
      "| Littorella uniflora |   Glechoma hederacea  | 1.99965387583 |  6   |\n",
      "| Littorella uniflora | Anthriscus sylvestris | 1.99962425232 |  7   |\n",
      "| Littorella uniflora |     Arctium minus     |  1.9995585084 |  8   |\n",
      "| Littorella uniflora |    Elytrigia repens   | 1.99955624342 |  9   |\n",
      "| Littorella uniflora | Arrhenatherum elatius | 1.99954342842 |  10  |\n",
      "+---------------------+-----------------------+---------------+------+\n",
      "[10 rows x 4 columns]\n",
      "\n"
     ]
    }
   ],
   "source": [
    "print trimmed_proportional_endangered_recommender.get_similar_users(['Littorella uniflora'])\n",
    "print trimmed_proportional_invasive_recommender.get_similar_items(['Littorella uniflora'])"
   ]
  },
  {
   "cell_type": "code",
   "execution_count": null,
   "metadata": {
    "collapsed": true
   },
   "outputs": [],
   "source": []
  }
 ],
 "metadata": {
  "kernelspec": {
   "display_name": "Python 2",
   "language": "python",
   "name": "python2"
  },
  "language_info": {
   "codemirror_mode": {
    "name": "ipython",
    "version": 2
   },
   "file_extension": ".py",
   "mimetype": "text/x-python",
   "name": "python",
   "nbconvert_exporter": "python",
   "pygments_lexer": "ipython2",
   "version": "2.7.11"
  }
 },
 "nbformat": 4,
 "nbformat_minor": 0
}
