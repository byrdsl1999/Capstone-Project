{
 "cells": [
  {
   "cell_type": "code",
   "execution_count": 1,
   "metadata": {
    "collapsed": false
   },
   "outputs": [],
   "source": [
    "import pandas as pd\n",
    "import pickle\n",
    "import matplotlib.pyplot as plt\n",
    "import graphlab"
   ]
  },
  {
   "cell_type": "code",
   "execution_count": 2,
   "metadata": {
    "collapsed": false
   },
   "outputs": [
    {
     "data": {
      "text/plain": [
       "u'/Users/stevenbyrd/Documents/galvanize/project'"
      ]
     },
     "execution_count": 2,
     "metadata": {},
     "output_type": "execute_result"
    }
   ],
   "source": [
    "pwd"
   ]
  },
  {
   "cell_type": "code",
   "execution_count": 3,
   "metadata": {
    "collapsed": true
   },
   "outputs": [],
   "source": [
    "def _all_sites_in_region(region_prefix):\n",
    "    sites= []\n",
    "    for i in xrange(10):\n",
    "        for j in xrange(10):\n",
    "            sites.append(region_prefix+str(i)+str(j))\n",
    "    return sites\n",
    "\n",
    "\n",
    "def _load_data(prefix, directory='data/', suffix='_taxon_data.pkl'):\n",
    "    file_name = directory+prefix+suffix\n",
    "    region_taxon_data = pickle.load(open(file_name, \"rb\" ))\n",
    "    return region_taxon_data\n",
    "\n",
    "def _make_data_row(site, taxon_entry, proportional, max_count):\n",
    "    new_row = None\n",
    "    if proportional:\n",
    "        new_row = [site,\n",
    "                   taxon_entry['taxon']['name'],\n",
    "                   float(taxon_entry['querySpecificObservationCount'])/max_count\n",
    "                   ]\n",
    "    else:\n",
    "        new_row = [site,\n",
    "                   taxon_entry['taxon']['name'],\n",
    "                   1\n",
    "                   ]\n",
    "    return new_row"
   ]
  },
  {
   "cell_type": "code",
   "execution_count": 4,
   "metadata": {
    "collapsed": true
   },
   "outputs": [],
   "source": [
    "PREFIX_FILENAME = 'data/gridsquareprefixescombined.csv' \n",
    "    #alternate prefixes include:\n",
    "        #Great Britain 'data/gridsquareprefixesGB.csv' \n",
    "        #Ireland: 'data/gridsquareprefixesIreland.csv'\n",
    "TARGET_DIRECTORY = 'data/'      #For saving the file\n",
    "SAVE_FILE_NAME = 'survey_proportion_test.sframe'\n",
    "\n",
    "proportional=True\n",
    "trim_data = True\n",
    "min_locations = 3\n",
    "min_taxa=100\n",
    "presence_threshold = 0"
   ]
  },
  {
   "cell_type": "code",
   "execution_count": 5,
   "metadata": {
    "collapsed": true
   },
   "outputs": [],
   "source": [
    "prefixes = ['SC', 'SR']"
   ]
  },
  {
   "cell_type": "code",
   "execution_count": 6,
   "metadata": {
    "collapsed": false
   },
   "outputs": [
    {
     "name": "stdout",
     "output_type": "stream",
     "text": [
      "SC\n",
      "SR\n"
     ]
    }
   ],
   "source": [
    "#This step takes awhile. By nature, I think.\n",
    "aggregated_data = []\n",
    "for prefix in prefixes:\n",
    "    print prefix\n",
    "    region_taxon_data = _load_data(prefix)\n",
    "    sites = _all_sites_in_region(prefix)\n",
    "    for site in sites:\n",
    "        max_count = 0.\n",
    "        for l in xrange(len(region_taxon_data[site])):\n",
    "            if region_taxon_data[site][l]['querySpecificObservationCount']> max_count:\n",
    "                max_count = float(region_taxon_data[site][l]['querySpecificObservationCount'])\n",
    "        for taxon in region_taxon_data[site]:\n",
    "            aggregated_data.append(_make_data_row(site, taxon, proportional, max_count))\n",
    "df = pd.DataFrame(aggregated_data)"
   ]
  },
  {
   "cell_type": "code",
   "execution_count": 7,
   "metadata": {
    "collapsed": false
   },
   "outputs": [],
   "source": [
    "if proportional:\n",
    "    headers = ['site', 'taxa', '%present']\n",
    "    df.columns = headers\n",
    "    return_df = df[['site', 'taxa', '%present']]\n",
    "    fill=None\n",
    "else:\n",
    "    headers = ['site', 'taxa', 'present']\n",
    "    df.columns = headers\n",
    "    return_df = df[['site', 'taxa', 'present']]\n",
    "    fill=None"
   ]
  },
  {
   "cell_type": "code",
   "execution_count": 12,
   "metadata": {
    "collapsed": false
   },
   "outputs": [],
   "source": [
    "data_sf = graphlab.SFrame(return_df)"
   ]
  },
  {
   "cell_type": "code",
   "execution_count": 18,
   "metadata": {
    "collapsed": false
   },
   "outputs": [
    {
     "data": {
      "text/html": [
       "<div style=\"max-height:1000px;max-width:1500px;overflow:auto;\"><table frame=\"box\" rules=\"cols\">\n",
       "    <tr>\n",
       "        <th style=\"padding-left: 1em; padding-right: 1em; text-align: center\">site</th>\n",
       "        <th style=\"padding-left: 1em; padding-right: 1em; text-align: center\">taxa</th>\n",
       "        <th style=\"padding-left: 1em; padding-right: 1em; text-align: center\">%present</th>\n",
       "    </tr>\n",
       "    <tr>\n",
       "        <td style=\"padding-left: 1em; padding-right: 1em; text-align: center; vertical-align: top\">SC16</td>\n",
       "        <td style=\"padding-left: 1em; padding-right: 1em; text-align: center; vertical-align: top\">Acaena caesiiglauca</td>\n",
       "        <td style=\"padding-left: 1em; padding-right: 1em; text-align: center; vertical-align: top\">nan</td>\n",
       "    </tr>\n",
       "    <tr>\n",
       "        <td style=\"padding-left: 1em; padding-right: 1em; text-align: center; vertical-align: top\">SC16</td>\n",
       "        <td style=\"padding-left: 1em; padding-right: 1em; text-align: center; vertical-align: top\">Acaena novae-zelandiae</td>\n",
       "        <td style=\"padding-left: 1em; padding-right: 1em; text-align: center; vertical-align: top\">nan</td>\n",
       "    </tr>\n",
       "    <tr>\n",
       "        <td style=\"padding-left: 1em; padding-right: 1em; text-align: center; vertical-align: top\">SC16</td>\n",
       "        <td style=\"padding-left: 1em; padding-right: 1em; text-align: center; vertical-align: top\">Acer campestre</td>\n",
       "        <td style=\"padding-left: 1em; padding-right: 1em; text-align: center; vertical-align: top\">nan</td>\n",
       "    </tr>\n",
       "    <tr>\n",
       "        <td style=\"padding-left: 1em; padding-right: 1em; text-align: center; vertical-align: top\">SC16</td>\n",
       "        <td style=\"padding-left: 1em; padding-right: 1em; text-align: center; vertical-align: top\">Acer platanoides</td>\n",
       "        <td style=\"padding-left: 1em; padding-right: 1em; text-align: center; vertical-align: top\">nan</td>\n",
       "    </tr>\n",
       "    <tr>\n",
       "        <td style=\"padding-left: 1em; padding-right: 1em; text-align: center; vertical-align: top\">SC16</td>\n",
       "        <td style=\"padding-left: 1em; padding-right: 1em; text-align: center; vertical-align: top\">Acer pseudoplatanus</td>\n",
       "        <td style=\"padding-left: 1em; padding-right: 1em; text-align: center; vertical-align: top\">0.833333333333</td>\n",
       "    </tr>\n",
       "    <tr>\n",
       "        <td style=\"padding-left: 1em; padding-right: 1em; text-align: center; vertical-align: top\">SC16</td>\n",
       "        <td style=\"padding-left: 1em; padding-right: 1em; text-align: center; vertical-align: top\">Achillea millefolium</td>\n",
       "        <td style=\"padding-left: 1em; padding-right: 1em; text-align: center; vertical-align: top\">0.75</td>\n",
       "    </tr>\n",
       "    <tr>\n",
       "        <td style=\"padding-left: 1em; padding-right: 1em; text-align: center; vertical-align: top\">SC16</td>\n",
       "        <td style=\"padding-left: 1em; padding-right: 1em; text-align: center; vertical-align: top\">Achillea ptarmica</td>\n",
       "        <td style=\"padding-left: 1em; padding-right: 1em; text-align: center; vertical-align: top\">0.333333333333</td>\n",
       "    </tr>\n",
       "    <tr>\n",
       "        <td style=\"padding-left: 1em; padding-right: 1em; text-align: center; vertical-align: top\">SC16</td>\n",
       "        <td style=\"padding-left: 1em; padding-right: 1em; text-align: center; vertical-align: top\">Aconitum napellus</td>\n",
       "        <td style=\"padding-left: 1em; padding-right: 1em; text-align: center; vertical-align: top\">nan</td>\n",
       "    </tr>\n",
       "    <tr>\n",
       "        <td style=\"padding-left: 1em; padding-right: 1em; text-align: center; vertical-align: top\">SC16</td>\n",
       "        <td style=\"padding-left: 1em; padding-right: 1em; text-align: center; vertical-align: top\">Aconitum napellus sensu<br>lato ...</td>\n",
       "        <td style=\"padding-left: 1em; padding-right: 1em; text-align: center; vertical-align: top\">0.0833333333333</td>\n",
       "    </tr>\n",
       "    <tr>\n",
       "        <td style=\"padding-left: 1em; padding-right: 1em; text-align: center; vertical-align: top\">SC16</td>\n",
       "        <td style=\"padding-left: 1em; padding-right: 1em; text-align: center; vertical-align: top\">Adonis annua</td>\n",
       "        <td style=\"padding-left: 1em; padding-right: 1em; text-align: center; vertical-align: top\">nan</td>\n",
       "    </tr>\n",
       "</table>\n",
       "[15400 rows x 3 columns]<br/>Note: Only the head of the SFrame is printed.<br/>You can use print_rows(num_rows=m, num_columns=n) to print more rows and columns.\n",
       "</div>"
      ],
      "text/plain": [
       "Columns:\n",
       "\tsite\tstr\n",
       "\ttaxa\tstr\n",
       "\t%present\tfloat\n",
       "\n",
       "Rows: 15400\n",
       "\n",
       "Data:\n",
       "+------+------------------------------+-----------------+\n",
       "| site |             taxa             |     %present    |\n",
       "+------+------------------------------+-----------------+\n",
       "| SC16 |     Acaena caesiiglauca      |       nan       |\n",
       "| SC16 |    Acaena novae-zelandiae    |       nan       |\n",
       "| SC16 |        Acer campestre        |       nan       |\n",
       "| SC16 |       Acer platanoides       |       nan       |\n",
       "| SC16 |     Acer pseudoplatanus      |  0.833333333333 |\n",
       "| SC16 |     Achillea millefolium     |       0.75      |\n",
       "| SC16 |      Achillea ptarmica       |  0.333333333333 |\n",
       "| SC16 |      Aconitum napellus       |       nan       |\n",
       "| SC16 | Aconitum napellus sensu lato | 0.0833333333333 |\n",
       "| SC16 |         Adonis annua         |       nan       |\n",
       "+------+------------------------------+-----------------+\n",
       "[15400 rows x 3 columns]\n",
       "Note: Only the head of the SFrame is printed.\n",
       "You can use print_rows(num_rows=m, num_columns=n) to print more rows and columns."
      ]
     },
     "execution_count": 18,
     "metadata": {},
     "output_type": "execute_result"
    }
   ],
   "source": [
    "data_sf"
   ]
  },
  {
   "cell_type": "code",
   "execution_count": 38,
   "metadata": {
    "collapsed": false
   },
   "outputs": [],
   "source": [
    "if trim_data == True:\n",
    "    data_df = data_sf.to_dataframe()\n",
    "    lookup_table = data_df.pivot_table(values= data_sf.column_names()[2], index='site',\n",
    "                                       columns='taxa', fill_value=fill)\n",
    "    temp = lookup_table > presence_threshold\n",
    "    common_taxa_mask= temp.sum(axis=0) >= min_locations\n",
    "    biodiverse_mask = temp.sum(axis=1) >= min_taxa\n",
    "    trimmed_lookup_table = lookup_table[biodiverse_mask].T[common_taxa_mask].T\n",
    "    trimmed_df = trimmed_lookup_table.T.unstack(0).reset_index()\n",
    "    null_filter = pd.isnull(trimmed_df[0])\n",
    "    trimmed_df = trimmed_df[~null_filter]\n",
    "    data_sf = graphlab.SFrame(trimmed_df)"
   ]
  },
  {
   "cell_type": "code",
   "execution_count": 17,
   "metadata": {
    "collapsed": false
   },
   "outputs": [],
   "source": [
    "if proportional:\n",
    "    headers = {'site':'site', 'taxa':'taxa', '0':'%present'}\n",
    "    data_sf.rename(headers)\n",
    "    return_df = df[['site', 'taxa', '%present']]\n",
    "    fill=None\n",
    "else:\n",
    "    headers = {'site':'site', 'taxa':'taxa', '0':'%present'}\n",
    "    data_sf.rename(headers)\n",
    "    return_df = df[['site', 'taxa', 'present']]\n",
    "    fill=None"
   ]
  },
  {
   "cell_type": "code",
   "execution_count": null,
   "metadata": {
    "collapsed": false
   },
   "outputs": [],
   "source": [
    "null_filter = pd.isnull(trimmed_df[0])"
   ]
  },
  {
   "cell_type": "code",
   "execution_count": 20,
   "metadata": {
    "collapsed": false
   },
   "outputs": [],
   "source": [
    "    null_filter = pd.isnull(trimmed_df[0])\n"
   ]
  },
  {
   "cell_type": "code",
   "execution_count": null,
   "metadata": {
    "collapsed": false
   },
   "outputs": [],
   "source": [
    "graphlab.is data_sf[0]"
   ]
  },
  {
   "cell_type": "code",
   "execution_count": 27,
   "metadata": {
    "collapsed": false
   },
   "outputs": [],
   "source": [
    "null_filter = pd.isnull(trimmed_df[0])\n",
    "trimm_d = trimmed_df[~null_filter]"
   ]
  },
  {
   "cell_type": "code",
   "execution_count": 40,
   "metadata": {
    "collapsed": false
   },
   "outputs": [
    {
     "data": {
      "text/html": [
       "<div style=\"max-height:1000px;max-width:1500px;overflow:auto;\"><table frame=\"box\" rules=\"cols\">\n",
       "    <tr>\n",
       "        <th style=\"padding-left: 1em; padding-right: 1em; text-align: center\">site</th>\n",
       "        <th style=\"padding-left: 1em; padding-right: 1em; text-align: center\">taxa</th>\n",
       "        <th style=\"padding-left: 1em; padding-right: 1em; text-align: center\">0</th>\n",
       "    </tr>\n",
       "    <tr>\n",
       "        <td style=\"padding-left: 1em; padding-right: 1em; text-align: center; vertical-align: top\">SC16</td>\n",
       "        <td style=\"padding-left: 1em; padding-right: 1em; text-align: center; vertical-align: top\">Acer pseudoplatanus</td>\n",
       "        <td style=\"padding-left: 1em; padding-right: 1em; text-align: center; vertical-align: top\">0.833333333333</td>\n",
       "    </tr>\n",
       "    <tr>\n",
       "        <td style=\"padding-left: 1em; padding-right: 1em; text-align: center; vertical-align: top\">SC16</td>\n",
       "        <td style=\"padding-left: 1em; padding-right: 1em; text-align: center; vertical-align: top\">Achillea millefolium</td>\n",
       "        <td style=\"padding-left: 1em; padding-right: 1em; text-align: center; vertical-align: top\">0.75</td>\n",
       "    </tr>\n",
       "    <tr>\n",
       "        <td style=\"padding-left: 1em; padding-right: 1em; text-align: center; vertical-align: top\">SC16</td>\n",
       "        <td style=\"padding-left: 1em; padding-right: 1em; text-align: center; vertical-align: top\">Achillea ptarmica</td>\n",
       "        <td style=\"padding-left: 1em; padding-right: 1em; text-align: center; vertical-align: top\">0.333333333333</td>\n",
       "    </tr>\n",
       "    <tr>\n",
       "        <td style=\"padding-left: 1em; padding-right: 1em; text-align: center; vertical-align: top\">SC16</td>\n",
       "        <td style=\"padding-left: 1em; padding-right: 1em; text-align: center; vertical-align: top\">Aconitum napellus sensu<br>lato ...</td>\n",
       "        <td style=\"padding-left: 1em; padding-right: 1em; text-align: center; vertical-align: top\">0.0833333333333</td>\n",
       "    </tr>\n",
       "    <tr>\n",
       "        <td style=\"padding-left: 1em; padding-right: 1em; text-align: center; vertical-align: top\">SC16</td>\n",
       "        <td style=\"padding-left: 1em; padding-right: 1em; text-align: center; vertical-align: top\">Aegopodium podagraria</td>\n",
       "        <td style=\"padding-left: 1em; padding-right: 1em; text-align: center; vertical-align: top\">0.5</td>\n",
       "    </tr>\n",
       "    <tr>\n",
       "        <td style=\"padding-left: 1em; padding-right: 1em; text-align: center; vertical-align: top\">SC16</td>\n",
       "        <td style=\"padding-left: 1em; padding-right: 1em; text-align: center; vertical-align: top\">Aesculus hippocastanum</td>\n",
       "        <td style=\"padding-left: 1em; padding-right: 1em; text-align: center; vertical-align: top\">0.25</td>\n",
       "    </tr>\n",
       "    <tr>\n",
       "        <td style=\"padding-left: 1em; padding-right: 1em; text-align: center; vertical-align: top\">SC16</td>\n",
       "        <td style=\"padding-left: 1em; padding-right: 1em; text-align: center; vertical-align: top\">Aethusa cynapium</td>\n",
       "        <td style=\"padding-left: 1em; padding-right: 1em; text-align: center; vertical-align: top\">0.0833333333333</td>\n",
       "    </tr>\n",
       "    <tr>\n",
       "        <td style=\"padding-left: 1em; padding-right: 1em; text-align: center; vertical-align: top\">SC16</td>\n",
       "        <td style=\"padding-left: 1em; padding-right: 1em; text-align: center; vertical-align: top\">Agrostis canina</td>\n",
       "        <td style=\"padding-left: 1em; padding-right: 1em; text-align: center; vertical-align: top\">0.166666666667</td>\n",
       "    </tr>\n",
       "    <tr>\n",
       "        <td style=\"padding-left: 1em; padding-right: 1em; text-align: center; vertical-align: top\">SC16</td>\n",
       "        <td style=\"padding-left: 1em; padding-right: 1em; text-align: center; vertical-align: top\">Agrostis canina sensu<br>lato ...</td>\n",
       "        <td style=\"padding-left: 1em; padding-right: 1em; text-align: center; vertical-align: top\">0.5</td>\n",
       "    </tr>\n",
       "    <tr>\n",
       "        <td style=\"padding-left: 1em; padding-right: 1em; text-align: center; vertical-align: top\">SC16</td>\n",
       "        <td style=\"padding-left: 1em; padding-right: 1em; text-align: center; vertical-align: top\">Agrostis capillaris</td>\n",
       "        <td style=\"padding-left: 1em; padding-right: 1em; text-align: center; vertical-align: top\">0.5</td>\n",
       "    </tr>\n",
       "</table>\n",
       "[8983 rows x 3 columns]<br/>Note: Only the head of the SFrame is printed.<br/>You can use print_rows(num_rows=m, num_columns=n) to print more rows and columns.\n",
       "</div>"
      ],
      "text/plain": [
       "Columns:\n",
       "\tsite\tstr\n",
       "\ttaxa\tstr\n",
       "\t0\tfloat\n",
       "\n",
       "Rows: 8983\n",
       "\n",
       "Data:\n",
       "+------+------------------------------+-----------------+\n",
       "| site |             taxa             |        0        |\n",
       "+------+------------------------------+-----------------+\n",
       "| SC16 |     Acer pseudoplatanus      |  0.833333333333 |\n",
       "| SC16 |     Achillea millefolium     |       0.75      |\n",
       "| SC16 |      Achillea ptarmica       |  0.333333333333 |\n",
       "| SC16 | Aconitum napellus sensu lato | 0.0833333333333 |\n",
       "| SC16 |    Aegopodium podagraria     |       0.5       |\n",
       "| SC16 |    Aesculus hippocastanum    |       0.25      |\n",
       "| SC16 |       Aethusa cynapium       | 0.0833333333333 |\n",
       "| SC16 |       Agrostis canina        |  0.166666666667 |\n",
       "| SC16 |  Agrostis canina sensu lato  |       0.5       |\n",
       "| SC16 |     Agrostis capillaris      |       0.5       |\n",
       "+------+------------------------------+-----------------+\n",
       "[8983 rows x 3 columns]\n",
       "Note: Only the head of the SFrame is printed.\n",
       "You can use print_rows(num_rows=m, num_columns=n) to print more rows and columns."
      ]
     },
     "execution_count": 40,
     "metadata": {},
     "output_type": "execute_result"
    }
   ],
   "source": [
    "data_sf"
   ]
  },
  {
   "cell_type": "code",
   "execution_count": null,
   "metadata": {
    "collapsed": true
   },
   "outputs": [],
   "source": []
  }
 ],
 "metadata": {
  "kernelspec": {
   "display_name": "Python 2",
   "language": "python",
   "name": "python2"
  },
  "language_info": {
   "codemirror_mode": {
    "name": "ipython",
    "version": 2
   },
   "file_extension": ".py",
   "mimetype": "text/x-python",
   "name": "python",
   "nbconvert_exporter": "python",
   "pygments_lexer": "ipython2",
   "version": "2.7.11"
  }
 },
 "nbformat": 4,
 "nbformat_minor": 0
}
