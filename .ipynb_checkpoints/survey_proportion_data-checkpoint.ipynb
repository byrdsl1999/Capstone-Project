{
 "cells": [
  {
   "cell_type": "code",
   "execution_count": 1,
   "metadata": {
    "collapsed": false
   },
   "outputs": [
    {
     "name": "stderr",
     "output_type": "stream",
     "text": [
      "[INFO] \u001b[1;32m1452201388 : INFO:     (initialize_globals_from_environment:282): Setting configuration variable GRAPHLAB_FILEIO_ALTERNATIVE_SSL_CERT_FILE to /Applications/anaconda/lib/python2.7/site-packages/certifi/cacert.pem\n",
      "\u001b[0m\u001b[1;32m1452201388 : INFO:     (initialize_globals_from_environment:282): Setting configuration variable GRAPHLAB_FILEIO_ALTERNATIVE_SSL_CERT_DIR to \n",
      "\u001b[0mThis non-commercial license of GraphLab Create is assigned to byrdsl@mail.sfsu.edu and will expire on January 04, 2017. For commercial licensing options, visit https://dato.com/buy/.\n",
      "\n",
      "[INFO] Start server at: ipc:///tmp/graphlab_server-2741 - Server binary: /Applications/anaconda/lib/python2.7/site-packages/graphlab/unity_server - Server log: /tmp/graphlab_server_1452201388.log\n",
      "[INFO] GraphLab Server Version: 1.7.1\n"
     ]
    }
   ],
   "source": [
    "import pandas as pd\n",
    "import numpy as np\n",
    "import pickle\n",
    "import matplotlib.pyplot as plt\n",
    "import scipy.stats as stats\n",
    "import graphlab\n",
    "%matplotlib inline"
   ]
  },
  {
   "cell_type": "code",
   "execution_count": 2,
   "metadata": {
    "collapsed": false
   },
   "outputs": [],
   "source": [
    "prefix_df = pd.read_csv('data/gridsquareprefixesCombined.csv', header=None, na_filter=False)\n",
    "prefixes = prefix_df[0]"
   ]
  },
  {
   "cell_type": "code",
   "execution_count": 3,
   "metadata": {
    "collapsed": false
   },
   "outputs": [],
   "source": [
    "file_name=\"data/SO_taxon_data.pkl\"\n",
    "region_taxon_data = pickle.load(open(file_name, \"rb\" ))"
   ]
  },
  {
   "cell_type": "code",
   "execution_count": 4,
   "metadata": {
    "collapsed": false
   },
   "outputs": [
    {
     "name": "stdout",
     "output_type": "stream",
     "text": [
      "106\n"
     ]
    }
   ],
   "source": [
    "max_count = 0\n",
    "site = 'SO19'\n",
    "for l in xrange(len(region_taxon_data[site])):\n",
    "    if region_taxon_data[site][l]['querySpecificObservationCount']> max_count:\n",
    "        max_count = region_taxon_data[site][l]['querySpecificObservationCount']\n",
    "print max_count"
   ]
  },
  {
   "cell_type": "code",
   "execution_count": 5,
   "metadata": {
    "collapsed": false
   },
   "outputs": [],
   "source": [
    "region_taxon_data = pickle.load(open(file_name, \"rb\" ))"
   ]
  },
  {
   "cell_type": "code",
   "execution_count": 6,
   "metadata": {
    "collapsed": false
   },
   "outputs": [
    {
     "data": {
      "text/plain": [
       "804"
      ]
     },
     "execution_count": 6,
     "metadata": {},
     "output_type": "execute_result"
    }
   ],
   "source": [
    "len(region_taxon_data['SO19'])"
   ]
  },
  {
   "cell_type": "code",
   "execution_count": 7,
   "metadata": {
    "collapsed": false,
    "scrolled": true
   },
   "outputs": [
    {
     "name": "stdout",
     "output_type": "stream",
     "text": [
      "A\n",
      "B\n",
      "C\n",
      "D\n",
      "F\n",
      "G\n",
      "H\n",
      "J\n",
      "L\n",
      "M\n",
      "N\n",
      "O\n",
      "Q\n",
      "R\n",
      "S\n",
      "T\n",
      "V\n",
      "W\n",
      "X\n",
      "Y\n",
      "HL\n",
      "HM\n",
      "HN\n",
      "HO\n",
      "HP\n",
      "HQ\n",
      "HR\n",
      "HS\n",
      "HT\n",
      "HU\n",
      "HV\n",
      "HW\n",
      "HX\n",
      "HY\n",
      "HZ\n",
      "JL\n",
      "JM\n",
      "JQ\n",
      "JR\n",
      "JV\n",
      "JW\n",
      "NA\n",
      "NB\n",
      "NC\n",
      "ND\n",
      "NE\n",
      "NF\n",
      "NG\n",
      "NH\n",
      "NJ\n",
      "NK\n",
      "NL\n",
      "NM\n",
      "NN\n",
      "NO\n",
      "NP\n",
      "NR\n",
      "NS\n",
      "NT\n",
      "NU\n",
      "NX\n",
      "NY\n",
      "NZ\n",
      "OA\n",
      "OB\n",
      "OF\n",
      "OG\n",
      "OL\n",
      "OM\n",
      "OQ\n",
      "OR\n",
      "OV\n",
      "OW\n",
      "SC\n",
      "SD\n",
      "SE\n",
      "SH\n",
      "SJ\n",
      "SK\n",
      "SM\n",
      "SN\n",
      "SO\n",
      "SP\n",
      "SR\n",
      "SS\n",
      "ST\n",
      "SU\n",
      "SV\n",
      "SW\n",
      "SX\n",
      "SY\n",
      "SZ\n",
      "TA\n",
      "TB\n",
      "TF\n",
      "TG\n",
      "TL\n",
      "TM\n",
      "TQ\n",
      "TR\n",
      "TV\n",
      "TW\n"
     ]
    }
   ],
   "source": [
    "aggregated_data = []\n",
    "for prefix in prefixes:\n",
    "    file_name=\"data/\"+prefix+\"_taxon_data.pkl\"\n",
    "    region_taxon_data = pickle.load(open(file_name, \"rb\" ))\n",
    "    for i in xrange(10):\n",
    "        for j in xrange(10):\n",
    "            site = prefix+str(i)+str(j)\n",
    "            max_count = 0.\n",
    "            for l in xrange(len(region_taxon_data[site])):\n",
    "                if region_taxon_data[site][l]['querySpecificObservationCount']> max_count:\n",
    "                    max_count = float(region_taxon_data[site][l]['querySpecificObservationCount'])\n",
    "            for k in xrange(len(region_taxon_data[site])):\n",
    "                aggregated_data.append([site, region_taxon_data[site][k]['taxon']['name'], float(region_taxon_data[site][k]['querySpecificObservationCount'])/max_count, region_taxon_data[site][k]['querySpecificObservationCount']])\n",
    "    print prefix"
   ]
  },
  {
   "cell_type": "code",
   "execution_count": 8,
   "metadata": {
    "collapsed": true
   },
   "outputs": [],
   "source": [
    "df = pd.DataFrame(aggregated_data)\n",
    "site_labels = df[0].unique()\n",
    "taxon_labels = df[1].unique()\n",
    "df_matrix = pd.DataFrame(0, index = taxon_labels, columns = site_labels)"
   ]
  },
  {
   "cell_type": "code",
   "execution_count": 9,
   "metadata": {
    "collapsed": false
   },
   "outputs": [
    {
     "name": "stderr",
     "output_type": "stream",
     "text": [
      "/Applications/anaconda/lib/python2.7/site-packages/pandas/core/frame.py:1997: UserWarning: Boolean Series key will be reindexed to match DataFrame index.\n",
      "  \"DataFrame index.\", UserWarning)\n"
     ]
    },
    {
     "data": {
      "text/plain": [
       "0.043478260869565216"
      ]
     },
     "execution_count": 9,
     "metadata": {},
     "output_type": "execute_result"
    }
   ],
   "source": [
    "site ='NB43'\n",
    "sp='Acer campestre'\n",
    "float(df[df[0]==site][df[1]==sp][2])"
   ]
  },
  {
   "cell_type": "code",
   "execution_count": 10,
   "metadata": {
    "collapsed": false
   },
   "outputs": [],
   "source": [
    "headers = ['site', 'taxa', '%present', 'survey']\n",
    "df.columns = headers"
   ]
  },
  {
   "cell_type": "code",
   "execution_count": 11,
   "metadata": {
    "collapsed": false
   },
   "outputs": [],
   "source": [
    "df2 = df[['site', 'taxa', '%present']]"
   ]
  },
  {
   "cell_type": "code",
   "execution_count": 12,
   "metadata": {
    "collapsed": false
   },
   "outputs": [],
   "source": [
    "survey_prop_df = df.pivot_table(headers[2], headers[1], headers[0], fill_value = 0.0)"
   ]
  },
  {
   "cell_type": "code",
   "execution_count": 13,
   "metadata": {
    "collapsed": false
   },
   "outputs": [],
   "source": [
    "#This will manually pivot the table. it's very slow. Best not to use it.\n",
    "\n",
    "# counter = 0\n",
    "# for site in site_labels:\n",
    "#     species = df[df[0]==site][1]\n",
    "#     for sp in species:\n",
    "#         df_matrix[site][sp] = float(df[df[0]==site][df[1]==sp][2])\n",
    "    \n",
    "#     counter+=1\n",
    "#     if counter %100 ==0:\n",
    "#         print site, counter\n",
    "#         print \"% complete:\", counter/length"
   ]
  },
  {
   "cell_type": "code",
   "execution_count": 23,
   "metadata": {
    "collapsed": false
   },
   "outputs": [],
   "source": [
    "site_diversities = survey_prop_df.mean(axis = 0)\n",
    "species_ranges = survey_prop_df.mean(axis = 1)\n"
   ]
  },
  {
   "cell_type": "code",
   "execution_count": 25,
   "metadata": {
    "collapsed": false
   },
   "outputs": [
    {
     "data": {
      "text/plain": [
       "(array([  57.,   15.,   31.,   75.,   75.,  101.,  103.,  136.,  155.,\n",
       "         125.,  161.,  178.,  156.,  170.,  178.,  182.,  208.,  173.,\n",
       "         173.,  164.,  137.,  142.,  128.,  121.,  100.,   87.,   96.,\n",
       "          73.,   55.,   51.,   38.,   37.,   30.,   24.,   31.,   16.,\n",
       "          16.,   15.,    9.,    9.,    6.,    7.,    5.,    4.,    6.,\n",
       "           5.,    2.,    0.,    1.,    1.]),\n",
       " array([ 0.00013657,  0.00088344,  0.00163031,  0.00237718,  0.00312405,\n",
       "         0.00387092,  0.00461779,  0.00536465,  0.00611152,  0.00685839,\n",
       "         0.00760526,  0.00835213,  0.009099  ,  0.00984587,  0.01059273,\n",
       "         0.0113396 ,  0.01208647,  0.01283334,  0.01358021,  0.01432708,\n",
       "         0.01507395,  0.01582081,  0.01656768,  0.01731455,  0.01806142,\n",
       "         0.01880829,  0.01955516,  0.02030203,  0.02104889,  0.02179576,\n",
       "         0.02254263,  0.0232895 ,  0.02403637,  0.02478324,  0.0255301 ,\n",
       "         0.02627697,  0.02702384,  0.02777071,  0.02851758,  0.02926445,\n",
       "         0.03001132,  0.03075818,  0.03150505,  0.03225192,  0.03299879,\n",
       "         0.03374566,  0.03449253,  0.0352394 ,  0.03598626,  0.03673313,\n",
       "         0.03748   ]),\n",
       " <a list of 50 Patch objects>)"
      ]
     },
     "execution_count": 25,
     "metadata": {},
     "output_type": "execute_result"
    },
    {
     "data": {
      "image/png": "[encoded data removed]",
      "text/plain": [
       "<matplotlib.figure.Figure at 0x14991bc10>"
      ]
     },
     "metadata": {},
     "output_type": "display_data"
    }
   ],
   "source": [
    "plt.hist(site_diversities, bins=50)"
   ]
  },
  {
   "cell_type": "code",
   "execution_count": 16,
   "metadata": {
    "collapsed": false
   },
   "outputs": [
    {
     "data": {
      "text/plain": [
       "(array([  5.93000000e+03,   2.83000000e+02,   1.54000000e+02,\n",
       "          1.22000000e+02,   8.90000000e+01,   7.70000000e+01,\n",
       "          5.00000000e+01,   3.90000000e+01,   4.10000000e+01,\n",
       "          4.40000000e+01,   2.30000000e+01,   2.90000000e+01,\n",
       "          3.00000000e+01,   2.20000000e+01,   1.70000000e+01,\n",
       "          1.50000000e+01,   1.40000000e+01,   1.60000000e+01,\n",
       "          1.70000000e+01,   1.20000000e+01,   1.30000000e+01,\n",
       "          6.00000000e+00,   1.30000000e+01,   8.00000000e+00,\n",
       "          8.00000000e+00,   9.00000000e+00,   9.00000000e+00,\n",
       "          7.00000000e+00,   8.00000000e+00,   6.00000000e+00,\n",
       "          1.00000000e+01,   6.00000000e+00,   8.00000000e+00,\n",
       "          9.00000000e+00,   8.00000000e+00,   1.10000000e+01,\n",
       "          5.00000000e+00,   8.00000000e+00,   7.00000000e+00,\n",
       "          7.00000000e+00,   1.00000000e+01,   6.00000000e+00,\n",
       "          4.00000000e+00,   3.00000000e+00,   3.00000000e+00,\n",
       "          3.00000000e+00,   2.00000000e+00,   3.00000000e+00,\n",
       "          3.00000000e+00,   3.00000000e+00,   4.00000000e+00,\n",
       "          8.00000000e+00,   6.00000000e+00,   1.00000000e+00,\n",
       "          4.00000000e+00,   5.00000000e+00,   0.00000000e+00,\n",
       "          5.00000000e+00,   4.00000000e+00,   2.00000000e+00,\n",
       "          1.00000000e+00,   4.00000000e+00,   1.00000000e+00,\n",
       "          3.00000000e+00,   3.00000000e+00,   2.00000000e+00,\n",
       "          2.00000000e+00,   0.00000000e+00,   3.00000000e+00,\n",
       "          2.00000000e+00,   4.00000000e+00,   3.00000000e+00,\n",
       "          1.00000000e+00,   2.00000000e+00,   3.00000000e+00,\n",
       "          0.00000000e+00,   3.00000000e+00,   2.00000000e+00,\n",
       "          0.00000000e+00,   0.00000000e+00,   2.00000000e+00,\n",
       "          0.00000000e+00,   2.00000000e+00,   0.00000000e+00,\n",
       "          0.00000000e+00,   1.00000000e+00,   2.00000000e+00,\n",
       "          2.00000000e+00,   0.00000000e+00,   0.00000000e+00,\n",
       "          0.00000000e+00,   0.00000000e+00,   0.00000000e+00,\n",
       "          1.00000000e+00,   2.00000000e+00,   0.00000000e+00,\n",
       "          0.00000000e+00,   0.00000000e+00,   0.00000000e+00,\n",
       "          2.00000000e+00]),\n",
       " array([  1.67312672e-08,   4.76145625e-03,   9.52289576e-03,\n",
       "          1.42843353e-02,   1.90457748e-02,   2.38072143e-02,\n",
       "          2.85686538e-02,   3.33300933e-02,   3.80915328e-02,\n",
       "          4.28529724e-02,   4.76144119e-02,   5.23758514e-02,\n",
       "          5.71372909e-02,   6.18987304e-02,   6.66601699e-02,\n",
       "          7.14216094e-02,   7.61830490e-02,   8.09444885e-02,\n",
       "          8.57059280e-02,   9.04673675e-02,   9.52288070e-02,\n",
       "          9.99902465e-02,   1.04751686e-01,   1.09513126e-01,\n",
       "          1.14274565e-01,   1.19036005e-01,   1.23797444e-01,\n",
       "          1.28558884e-01,   1.33320323e-01,   1.38081763e-01,\n",
       "          1.42843202e-01,   1.47604642e-01,   1.52366081e-01,\n",
       "          1.57127521e-01,   1.61888960e-01,   1.66650400e-01,\n",
       "          1.71411839e-01,   1.76173279e-01,   1.80934718e-01,\n",
       "          1.85696158e-01,   1.90457597e-01,   1.95219037e-01,\n",
       "          1.99980476e-01,   2.04741916e-01,   2.09503355e-01,\n",
       "          2.14264795e-01,   2.19026234e-01,   2.23787674e-01,\n",
       "          2.28549113e-01,   2.33310553e-01,   2.38071992e-01,\n",
       "          2.42833432e-01,   2.47594871e-01,   2.52356311e-01,\n",
       "          2.57117751e-01,   2.61879190e-01,   2.66640630e-01,\n",
       "          2.71402069e-01,   2.76163509e-01,   2.80924948e-01,\n",
       "          2.85686388e-01,   2.90447827e-01,   2.95209267e-01,\n",
       "          2.99970706e-01,   3.04732146e-01,   3.09493585e-01,\n",
       "          3.14255025e-01,   3.19016464e-01,   3.23777904e-01,\n",
       "          3.28539343e-01,   3.33300783e-01,   3.38062222e-01,\n",
       "          3.42823662e-01,   3.47585101e-01,   3.52346541e-01,\n",
       "          3.57107980e-01,   3.61869420e-01,   3.66630859e-01,\n",
       "          3.71392299e-01,   3.76153738e-01,   3.80915178e-01,\n",
       "          3.85676617e-01,   3.90438057e-01,   3.95199496e-01,\n",
       "          3.99960936e-01,   4.04722375e-01,   4.09483815e-01,\n",
       "          4.14245254e-01,   4.19006694e-01,   4.23768134e-01,\n",
       "          4.28529573e-01,   4.33291013e-01,   4.38052452e-01,\n",
       "          4.42813892e-01,   4.47575331e-01,   4.52336771e-01,\n",
       "          4.57098210e-01,   4.61859650e-01,   4.66621089e-01,\n",
       "          4.71382529e-01,   4.76143968e-01]),\n",
       " <a list of 100 Patch objects>)"
      ]
     },
     "execution_count": 16,
     "metadata": {},
     "output_type": "execute_result"
    },
    {
     "data": {
      "image/png": "[encoded data removed]",
      "text/plain": [
       "<matplotlib.figure.Figure at 0x14b1e1d90>"
      ]
     },
     "metadata": {},
     "output_type": "display_data"
    }
   ],
   "source": [
    "plt.hist(species_ranges, bins = 100)"
   ]
  },
  {
   "cell_type": "code",
   "execution_count": 14,
   "metadata": {
    "collapsed": false
   },
   "outputs": [
    {
     "name": "stdout",
     "output_type": "stream",
     "text": [
      "count    3868.000000\n",
      "mean        0.012644\n",
      "std         0.006294\n",
      "min         0.000137\n",
      "25%         0.008020\n",
      "50%         0.012216\n",
      "75%         0.016588\n",
      "max         0.037480\n",
      "dtype: float64\n",
      "count    7.322000e+03\n",
      "mean     1.264424e-02\n",
      "std      4.474929e-02\n",
      "min      1.673127e-08\n",
      "25%      1.642952e-05\n",
      "50%      1.451593e-04\n",
      "75%      1.951588e-03\n",
      "max      4.761440e-01\n",
      "dtype: float64\n"
     ]
    }
   ],
   "source": [
    "print site_diversities.describe()\n",
    "print species_ranges.describe()"
   ]
  },
  {
   "cell_type": "code",
   "execution_count": 15,
   "metadata": {
    "collapsed": true
   },
   "outputs": [],
   "source": [
    "survey_prop_sf = graphlab.SFrame(df2)"
   ]
  },
  {
   "cell_type": "code",
   "execution_count": 16,
   "metadata": {
    "collapsed": true
   },
   "outputs": [],
   "source": [
    "survey_prop_sf.save('data/survey_proportion.sframe')"
   ]
  },
  {
   "cell_type": "code",
   "execution_count": null,
   "metadata": {
    "collapsed": true
   },
   "outputs": [],
   "source": []
  }
 ],
 "metadata": {
  "kernelspec": {
   "display_name": "Python 2",
   "language": "python",
   "name": "python2"
  },
  "language_info": {
   "codemirror_mode": {
    "name": "ipython",
    "version": 2
   },
   "file_extension": ".py",
   "mimetype": "text/x-python",
   "name": "python",
   "nbconvert_exporter": "python",
   "pygments_lexer": "ipython2",
   "version": "2.7.11"
  }
 },
 "nbformat": 4,
 "nbformat_minor": 0
}
